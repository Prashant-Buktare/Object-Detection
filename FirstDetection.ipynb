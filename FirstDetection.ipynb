{
 "cells": [
  {
   "cell_type": "code",
   "execution_count": 1,
   "metadata": {},
   "outputs": [
    {
     "name": "stdout",
     "output_type": "stream",
     "text": [
      "Collecting tensorflow==1.13.1\n",
      "  Using cached https://files.pythonhosted.org/packages/7b/14/e4538c2bc3ae9f4ce6f6ce7ef1180da05abc4a617afba798268232b01d0d/tensorflow-1.13.1-cp37-cp37m-win_amd64.whl\n",
      "Requirement already satisfied: astor>=0.6.0 in c:\\users\\dell\\desktop\\anaconda\\lib\\site-packages (from tensorflow==1.13.1) (0.8.0)\n",
      "Requirement already satisfied: protobuf>=3.6.1 in c:\\users\\dell\\desktop\\anaconda\\lib\\site-packages (from tensorflow==1.13.1) (3.11.4)\n",
      "Requirement already satisfied: termcolor>=1.1.0 in c:\\users\\dell\\desktop\\anaconda\\lib\\site-packages (from tensorflow==1.13.1) (1.1.0)\n",
      "Requirement already satisfied: grpcio>=1.8.6 in c:\\users\\dell\\desktop\\anaconda\\lib\\site-packages (from tensorflow==1.13.1) (1.27.2)\n",
      "Requirement already satisfied: keras-applications>=1.0.6 in c:\\users\\dell\\desktop\\anaconda\\lib\\site-packages (from tensorflow==1.13.1) (1.0.8)\n",
      "Collecting tensorboard<1.14.0,>=1.13.0 (from tensorflow==1.13.1)\n",
      "  Using cached https://files.pythonhosted.org/packages/0f/39/bdd75b08a6fba41f098b6cb091b9e8c7a80e1b4d679a581a0ccd17b10373/tensorboard-1.13.1-py3-none-any.whl\n",
      "Requirement already satisfied: tensorflow-estimator<1.14.0rc0,>=1.13.0 in c:\\users\\dell\\desktop\\anaconda\\lib\\site-packages (from tensorflow==1.13.1) (1.13.0)\n",
      "Requirement already satisfied: wheel>=0.26 in c:\\users\\dell\\desktop\\anaconda\\lib\\site-packages (from tensorflow==1.13.1) (0.33.6)\n",
      "Requirement already satisfied: absl-py>=0.1.6 in c:\\users\\dell\\desktop\\anaconda\\lib\\site-packages (from tensorflow==1.13.1) (0.9.0)\n",
      "Requirement already satisfied: keras-preprocessing>=1.0.5 in c:\\users\\dell\\desktop\\anaconda\\lib\\site-packages (from tensorflow==1.13.1) (1.1.0)\n",
      "Requirement already satisfied: six>=1.10.0 in c:\\users\\dell\\desktop\\anaconda\\lib\\site-packages (from tensorflow==1.13.1) (1.12.0)\n",
      "Requirement already satisfied: gast>=0.2.0 in c:\\users\\dell\\desktop\\anaconda\\lib\\site-packages (from tensorflow==1.13.1) (0.2.2)\n",
      "Requirement already satisfied: numpy>=1.13.3 in c:\\users\\dell\\desktop\\anaconda\\lib\\site-packages (from tensorflow==1.13.1) (1.16.5)\n",
      "Requirement already satisfied: setuptools in c:\\users\\dell\\desktop\\anaconda\\lib\\site-packages (from protobuf>=3.6.1->tensorflow==1.13.1) (41.4.0)\n",
      "Requirement already satisfied: h5py in c:\\users\\dell\\desktop\\anaconda\\lib\\site-packages (from keras-applications>=1.0.6->tensorflow==1.13.1) (2.9.0)\n",
      "Requirement already satisfied: werkzeug>=0.11.15 in c:\\users\\dell\\desktop\\anaconda\\lib\\site-packages (from tensorboard<1.14.0,>=1.13.0->tensorflow==1.13.1) (0.16.0)\n",
      "Requirement already satisfied: markdown>=2.6.8 in c:\\users\\dell\\desktop\\anaconda\\lib\\site-packages (from tensorboard<1.14.0,>=1.13.0->tensorflow==1.13.1) (3.1.1)\n",
      "Requirement already satisfied: mock>=2.0.0 in c:\\users\\dell\\desktop\\anaconda\\lib\\site-packages (from tensorflow-estimator<1.14.0rc0,>=1.13.0->tensorflow==1.13.1) (3.0.5)\n",
      "Installing collected packages: tensorboard, tensorflow\n",
      "  Found existing installation: tensorboard 2.1.0\n",
      "    Uninstalling tensorboard-2.1.0:\n",
      "      Successfully uninstalled tensorboard-2.1.0\n",
      "  Found existing installation: tensorflow 2.1.0\n",
      "    Uninstalling tensorflow-2.1.0:\n",
      "      Successfully uninstalled tensorflow-2.1.0\n",
      "Note: you may need to restart the kernel to use updated packages.\n"
     ]
    },
    {
     "name": "stderr",
     "output_type": "stream",
     "text": [
      "ERROR: Could not install packages due to an EnvironmentError: [WinError 145] The directory is not empty: 'c:\\\\users\\\\dell\\\\desktop\\\\anaconda\\\\lib\\\\site-packages\\\\~ensorflow_core\\\\python\\\\ops\\\\signal'\n",
      "\n"
     ]
    }
   ],
   "source": [
    "pip install tensorflow==1.13.1\n"
   ]
  },
  {
   "cell_type": "code",
   "execution_count": 2,
   "metadata": {},
   "outputs": [
    {
     "name": "stderr",
     "output_type": "stream",
     "text": [
      "Using TensorFlow backend.\n"
     ]
    }
   ],
   "source": [
    "from imageai.Detection import ObjectDetection\n",
    "import os\n"
   ]
  },
  {
   "cell_type": "code",
   "execution_count": 4,
   "metadata": {},
   "outputs": [
    {
     "name": "stdout",
     "output_type": "stream",
     "text": [
      "tracking <tf.Variable 'Variable_5:0' shape=(9, 4) dtype=float32> anchors\n",
      "tracking <tf.Variable 'Variable_6:0' shape=(9, 4) dtype=float32> anchors\n",
      "tracking <tf.Variable 'Variable_7:0' shape=(9, 4) dtype=float32> anchors\n",
      "tracking <tf.Variable 'Variable_8:0' shape=(9, 4) dtype=float32> anchors\n",
      "tracking <tf.Variable 'Variable_9:0' shape=(9, 4) dtype=float32> anchors\n",
      "person  :  52.51087546348572\n",
      "bus  :  92.21091270446777\n",
      "bus  :  68.01717281341553\n",
      "person  :  77.25940942764282\n",
      "person  :  68.91939640045166\n",
      "person  :  84.71400737762451\n",
      "person  :  91.37063026428223\n",
      "person  :  91.14207029342651\n",
      "person  :  91.2955641746521\n",
      "person  :  67.81420111656189\n",
      "person  :  58.70199799537659\n",
      "bus  :  86.65016889572144\n"
     ]
    }
   ],
   "source": [
    "execution_path = os.getcwd()\n",
    "\n",
    "detector = ObjectDetection()\n",
    "detector.setModelTypeAsRetinaNet()\n",
    "detector.setModelPath( os.path.join(execution_path , \"resnet50_coco_best_v2.0.1.h5\"))\n",
    "detector.loadModel()\n",
    "detections = detector.detectObjectsFromImage(input_image=os.path.join(execution_path , \"mumbai.jpg\"), output_image_path=os.path.join(execution_path , \"imagenew.jpg\"))\n",
    "\n",
    "for eachObject in detections:\n",
    "    print(eachObject[\"name\"] , \" : \" , eachObject[\"percentage_probability\"] )"
   ]
  },
  {
   "cell_type": "code",
   "execution_count": null,
   "metadata": {},
   "outputs": [],
   "source": []
  },
  {
   "cell_type": "code",
   "execution_count": null,
   "metadata": {},
   "outputs": [],
   "source": []
  }
 ],
 "metadata": {
  "kernelspec": {
   "display_name": "Python 3",
   "language": "python",
   "name": "python3"
  },
  "language_info": {
   "codemirror_mode": {
    "name": "ipython",
    "version": 3
   },
   "file_extension": ".py",
   "mimetype": "text/x-python",
   "name": "python",
   "nbconvert_exporter": "python",
   "pygments_lexer": "ipython3",
   "version": "3.7.4"
  }
 },
 "nbformat": 4,
 "nbformat_minor": 2
}
